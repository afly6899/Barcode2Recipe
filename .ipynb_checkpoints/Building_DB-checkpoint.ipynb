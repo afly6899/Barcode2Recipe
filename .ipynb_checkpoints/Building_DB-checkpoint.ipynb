{
 "cells": [
  {
   "cell_type": "code",
   "execution_count": 1,
   "metadata": {},
   "outputs": [],
   "source": [
    "import pandas as pd\n",
    "import numpy as np\n",
    "from sqlalchemy import Column, ForeignKey, Integer, String\n",
    "from sqlalchemy.ext.declarative import declarative_base\n",
    "from sqlalchemy.orm import relationship\n",
    "from sqlalchemy import create_engine\n",
    "from sqlalchemy import create_engine\n",
    "from sqlalchemy.orm import sessionmaker"
   ]
  },
  {
   "cell_type": "code",
   "execution_count": 2,
   "metadata": {},
   "outputs": [],
   "source": [
    "Base = declarative_base()\n",
    "engine = create_engine('sqlite:///Mood2Food.db')"
   ]
  },
  {
   "cell_type": "code",
   "execution_count": 3,
   "metadata": {},
   "outputs": [],
   "source": [
    "class ChooseMood(Base):\n",
    "    __tablename__ = 'choosemood'\n",
    "    mood = Column(String(15), primary_key = True)\n",
    "    color = Column(String(20), nullable = False)\n",
    "    color_hex = Column(String(7), nullable = False)\n",
    "    color_r = Column(Integer, nullable = False)\n",
    "    color_g = Column(Integer, nullable = False)\n",
    "    color_b = Column(Integer, nullable = False)\n",
    "\n",
    "class Mood2Category(Base):\n",
    "    __tablename__ = 'mood2category'\n",
    "    category = Column(String(10), primary_key = True)\n",
    "    mood = Column(String(15), ForeignKey(\"choosemood.mood\"))\n",
    "    act_mood = relationship(ChooseMood)\n",
    "    \n",
    "class Category2Food(Base):\n",
    "    __tablename__ = 'category2food'\n",
    "    food = Column(String(50), primary_key = True)\n",
    "    category = Column(String(10), ForeignKey(\"mood2category.category\"))\n",
    "    ingredients = Column(String(1000))\n",
    "    directions = Column(String(1000))\n",
    "    url = Column(String(100))\n",
    "    act_category = relationship(Mood2Category)\n",
    "\n",
    "Base.metadata.create_all(engine)"
   ]
  },
  {
   "cell_type": "code",
   "execution_count": 4,
   "metadata": {},
   "outputs": [
    {
     "data": {
      "text/html": [
       "<div>\n",
       "<style scoped>\n",
       "    .dataframe tbody tr th:only-of-type {\n",
       "        vertical-align: middle;\n",
       "    }\n",
       "\n",
       "    .dataframe tbody tr th {\n",
       "        vertical-align: top;\n",
       "    }\n",
       "\n",
       "    .dataframe thead th {\n",
       "        text-align: right;\n",
       "    }\n",
       "</style>\n",
       "<table border=\"1\" class=\"dataframe\">\n",
       "  <thead>\n",
       "    <tr style=\"text-align: right;\">\n",
       "      <th></th>\n",
       "      <th>emotion</th>\n",
       "      <th>colors</th>\n",
       "      <th>Hex Code#RRGGBB</th>\n",
       "      <th>Decimal Code\r\n",
       "(R,G,B)</th>\n",
       "    </tr>\n",
       "  </thead>\n",
       "  <tbody>\n",
       "    <tr>\n",
       "      <th>0</th>\n",
       "      <td>happy</td>\n",
       "      <td>yellow</td>\n",
       "      <td>#FFFF00</td>\n",
       "      <td>(255,255,0)</td>\n",
       "    </tr>\n",
       "    <tr>\n",
       "      <th>1</th>\n",
       "      <td>sad</td>\n",
       "      <td>blue</td>\n",
       "      <td>#6495ED</td>\n",
       "      <td>-100,149,237</td>\n",
       "    </tr>\n",
       "    <tr>\n",
       "      <th>2</th>\n",
       "      <td>calm</td>\n",
       "      <td>green</td>\n",
       "      <td>#90EE90</td>\n",
       "      <td>-144,238,144</td>\n",
       "    </tr>\n",
       "    <tr>\n",
       "      <th>3</th>\n",
       "      <td>excited</td>\n",
       "      <td>red</td>\n",
       "      <td>#FF4500</td>\n",
       "      <td>(255,69,0)</td>\n",
       "    </tr>\n",
       "    <tr>\n",
       "      <th>4</th>\n",
       "      <td>anxious</td>\n",
       "      <td>red</td>\n",
       "      <td>#FF0000</td>\n",
       "      <td>(255,0,0)</td>\n",
       "    </tr>\n",
       "  </tbody>\n",
       "</table>\n",
       "</div>"
      ],
      "text/plain": [
       "   emotion  colors Hex Code#RRGGBB Decimal Code\\r\\n(R,G,B)\n",
       "0    happy  yellow         #FFFF00             (255,255,0)\n",
       "1      sad    blue         #6495ED            -100,149,237\n",
       "2     calm   green         #90EE90            -144,238,144\n",
       "3  excited     red         #FF4500              (255,69,0)\n",
       "4  anxious     red         #FF0000               (255,0,0)"
      ]
     },
     "execution_count": 4,
     "metadata": {},
     "output_type": "execute_result"
    }
   ],
   "source": [
    "moods = pd.read_csv(\"Data/Moods.csv\")\n",
    "moods.head()"
   ]
  },
  {
   "cell_type": "code",
   "execution_count": 5,
   "metadata": {},
   "outputs": [],
   "source": [
    "moods[[\"R\", \"G\", \"B\"]] = moods[\"Decimal Code\\r\\n(R,G,B)\"].str.replace(\"[\\)\\(]\", \"\").str.split(\",\", expand = True)\n",
    "moods = moods.drop(columns=[\"Decimal Code\\r\\n(R,G,B)\"])"
   ]
  },
  {
   "cell_type": "code",
   "execution_count": 6,
   "metadata": {},
   "outputs": [],
   "source": [
    "moods.columns = [\"mood\", \"color\", \"color_hex\", \"color_r\", \"color_g\", \"color_b\"]"
   ]
  },
  {
   "cell_type": "code",
   "execution_count": 7,
   "metadata": {},
   "outputs": [
    {
     "data": {
      "text/html": [
       "<div>\n",
       "<style scoped>\n",
       "    .dataframe tbody tr th:only-of-type {\n",
       "        vertical-align: middle;\n",
       "    }\n",
       "\n",
       "    .dataframe tbody tr th {\n",
       "        vertical-align: top;\n",
       "    }\n",
       "\n",
       "    .dataframe thead th {\n",
       "        text-align: right;\n",
       "    }\n",
       "</style>\n",
       "<table border=\"1\" class=\"dataframe\">\n",
       "  <thead>\n",
       "    <tr style=\"text-align: right;\">\n",
       "      <th></th>\n",
       "      <th>mood</th>\n",
       "      <th>color</th>\n",
       "      <th>color_hex</th>\n",
       "      <th>color_r</th>\n",
       "      <th>color_g</th>\n",
       "      <th>color_b</th>\n",
       "    </tr>\n",
       "  </thead>\n",
       "  <tbody>\n",
       "    <tr>\n",
       "      <th>0</th>\n",
       "      <td>happy</td>\n",
       "      <td>yellow</td>\n",
       "      <td>#FFFF00</td>\n",
       "      <td>255</td>\n",
       "      <td>255</td>\n",
       "      <td>0</td>\n",
       "    </tr>\n",
       "    <tr>\n",
       "      <th>1</th>\n",
       "      <td>sad</td>\n",
       "      <td>blue</td>\n",
       "      <td>#6495ED</td>\n",
       "      <td>-100</td>\n",
       "      <td>149</td>\n",
       "      <td>237</td>\n",
       "    </tr>\n",
       "    <tr>\n",
       "      <th>2</th>\n",
       "      <td>calm</td>\n",
       "      <td>green</td>\n",
       "      <td>#90EE90</td>\n",
       "      <td>-144</td>\n",
       "      <td>238</td>\n",
       "      <td>144</td>\n",
       "    </tr>\n",
       "    <tr>\n",
       "      <th>3</th>\n",
       "      <td>excited</td>\n",
       "      <td>red</td>\n",
       "      <td>#FF4500</td>\n",
       "      <td>255</td>\n",
       "      <td>69</td>\n",
       "      <td>0</td>\n",
       "    </tr>\n",
       "    <tr>\n",
       "      <th>4</th>\n",
       "      <td>anxious</td>\n",
       "      <td>red</td>\n",
       "      <td>#FF0000</td>\n",
       "      <td>255</td>\n",
       "      <td>0</td>\n",
       "      <td>0</td>\n",
       "    </tr>\n",
       "  </tbody>\n",
       "</table>\n",
       "</div>"
      ],
      "text/plain": [
       "      mood   color color_hex color_r color_g color_b\n",
       "0    happy  yellow   #FFFF00     255     255       0\n",
       "1      sad    blue   #6495ED    -100     149     237\n",
       "2     calm   green   #90EE90    -144     238     144\n",
       "3  excited     red   #FF4500     255      69       0\n",
       "4  anxious     red   #FF0000     255       0       0"
      ]
     },
     "execution_count": 7,
     "metadata": {},
     "output_type": "execute_result"
    }
   ],
   "source": [
    "moods.head()"
   ]
  },
  {
   "cell_type": "code",
   "execution_count": 15,
   "metadata": {},
   "outputs": [
    {
     "data": {
      "text/html": [
       "<div>\n",
       "<style scoped>\n",
       "    .dataframe tbody tr th:only-of-type {\n",
       "        vertical-align: middle;\n",
       "    }\n",
       "\n",
       "    .dataframe tbody tr th {\n",
       "        vertical-align: top;\n",
       "    }\n",
       "\n",
       "    .dataframe thead th {\n",
       "        text-align: right;\n",
       "    }\n",
       "</style>\n",
       "<table border=\"1\" class=\"dataframe\">\n",
       "  <thead>\n",
       "    <tr style=\"text-align: right;\">\n",
       "      <th></th>\n",
       "      <th>Category</th>\n",
       "      <th>Mood</th>\n",
       "    </tr>\n",
       "  </thead>\n",
       "  <tbody>\n",
       "    <tr>\n",
       "      <th>0</th>\n",
       "      <td>Meat</td>\n",
       "      <td>angry</td>\n",
       "    </tr>\n",
       "    <tr>\n",
       "      <th>1</th>\n",
       "      <td>Tough</td>\n",
       "      <td>angry</td>\n",
       "    </tr>\n",
       "    <tr>\n",
       "      <th>2</th>\n",
       "      <td>Crunchy</td>\n",
       "      <td>angry</td>\n",
       "    </tr>\n",
       "    <tr>\n",
       "      <th>3</th>\n",
       "      <td>Sugar</td>\n",
       "      <td>sad</td>\n",
       "    </tr>\n",
       "    <tr>\n",
       "      <th>4</th>\n",
       "      <td>Sweet</td>\n",
       "      <td>anxious</td>\n",
       "    </tr>\n",
       "  </tbody>\n",
       "</table>\n",
       "</div>"
      ],
      "text/plain": [
       "  Category     Mood\n",
       "0     Meat    angry\n",
       "1    Tough    angry\n",
       "2  Crunchy    angry\n",
       "3    Sugar      sad\n",
       "4    Sweet  anxious"
      ]
     },
     "execution_count": 15,
     "metadata": {},
     "output_type": "execute_result"
    }
   ],
   "source": [
    "category = pd.read_csv(\"Data/Mood2Category.csv\")\n",
    "category = category[[\"Category\", \"Mood\"]]\n",
    "category[\"Mood\"] = category[\"Mood\"].str.lower()\n",
    "category.head()"
   ]
  },
  {
   "cell_type": "code",
   "execution_count": 16,
   "metadata": {},
   "outputs": [
    {
     "data": {
      "text/html": [
       "<div>\n",
       "<style scoped>\n",
       "    .dataframe tbody tr th:only-of-type {\n",
       "        vertical-align: middle;\n",
       "    }\n",
       "\n",
       "    .dataframe tbody tr th {\n",
       "        vertical-align: top;\n",
       "    }\n",
       "\n",
       "    .dataframe thead th {\n",
       "        text-align: right;\n",
       "    }\n",
       "</style>\n",
       "<table border=\"1\" class=\"dataframe\">\n",
       "  <thead>\n",
       "    <tr style=\"text-align: right;\">\n",
       "      <th></th>\n",
       "      <th>food</th>\n",
       "      <th>category</th>\n",
       "      <th>ingredients</th>\n",
       "      <th>directions</th>\n",
       "      <th>url</th>\n",
       "    </tr>\n",
       "  </thead>\n",
       "  <tbody>\n",
       "    <tr>\n",
       "      <th>0</th>\n",
       "      <td>Beef Brisket</td>\n",
       "      <td>Meat</td>\n",
       "      <td>3 to 4 lbs of a brisket cut of beef\\r\\n3/4 cup...</td>\n",
       "      <td>1. Trim the fat cap on the brisket down to abo...</td>\n",
       "      <td>https://www.simplyrecipes.com/recipes/beef_bri...</td>\n",
       "    </tr>\n",
       "    <tr>\n",
       "      <th>1</th>\n",
       "      <td>Beef &amp; Noodles</td>\n",
       "      <td>Meat</td>\n",
       "      <td>NaN</td>\n",
       "      <td>NaN</td>\n",
       "      <td>https://www.yummly.com/recipe/Lazy-Beef-_-Nood...</td>\n",
       "    </tr>\n",
       "    <tr>\n",
       "      <th>2</th>\n",
       "      <td>Firecracker Chicken</td>\n",
       "      <td>Meat</td>\n",
       "      <td>NaN</td>\n",
       "      <td>NaN</td>\n",
       "      <td>https://www.yummly.com/recipe/Firecracker-Chic...</td>\n",
       "    </tr>\n",
       "    <tr>\n",
       "      <th>3</th>\n",
       "      <td>Hawaiian Meatballs</td>\n",
       "      <td>Meat</td>\n",
       "      <td>NaN</td>\n",
       "      <td>NaN</td>\n",
       "      <td>https://www.yummly.com/recipe/Hawaiian-Meatbal...</td>\n",
       "    </tr>\n",
       "    <tr>\n",
       "      <th>4</th>\n",
       "      <td>Hidden Valley Candied Nuts</td>\n",
       "      <td>Tough</td>\n",
       "      <td>NaN</td>\n",
       "      <td>NaN</td>\n",
       "      <td>https://www.yummly.com/recipe/Hidden-Valley-Ca...</td>\n",
       "    </tr>\n",
       "  </tbody>\n",
       "</table>\n",
       "</div>"
      ],
      "text/plain": [
       "                         food category  \\\n",
       "0               Beef Brisket      Meat   \n",
       "1              Beef & Noodles     Meat   \n",
       "2         Firecracker Chicken     Meat   \n",
       "3          Hawaiian Meatballs     Meat   \n",
       "4  Hidden Valley Candied Nuts    Tough   \n",
       "\n",
       "                                         ingredients  \\\n",
       "0  3 to 4 lbs of a brisket cut of beef\\r\\n3/4 cup...   \n",
       "1                                                NaN   \n",
       "2                                                NaN   \n",
       "3                                                NaN   \n",
       "4                                                NaN   \n",
       "\n",
       "                                          directions  \\\n",
       "0  1. Trim the fat cap on the brisket down to abo...   \n",
       "1                                                NaN   \n",
       "2                                                NaN   \n",
       "3                                                NaN   \n",
       "4                                                NaN   \n",
       "\n",
       "                                                 url  \n",
       "0  https://www.simplyrecipes.com/recipes/beef_bri...  \n",
       "1  https://www.yummly.com/recipe/Lazy-Beef-_-Nood...  \n",
       "2  https://www.yummly.com/recipe/Firecracker-Chic...  \n",
       "3  https://www.yummly.com/recipe/Hawaiian-Meatbal...  \n",
       "4  https://www.yummly.com/recipe/Hidden-Valley-Ca...  "
      ]
     },
     "execution_count": 16,
     "metadata": {},
     "output_type": "execute_result"
    }
   ],
   "source": [
    "food = pd.read_csv(\"Data/Category2Food.csv\")\n",
    "food.columns = [\"category\", \"food\", \"ingredients\", \"directions\", \"url\"]\n",
    "food = food[[\"food\", \"category\", \"ingredients\", \"directions\", \"url\"]]\n",
    "food.head()"
   ]
  },
  {
   "cell_type": "code",
   "execution_count": 17,
   "metadata": {},
   "outputs": [],
   "source": [
    "Session = sessionmaker(bind=engine)\n",
    "session = Session()"
   ]
  },
  {
   "cell_type": "code",
   "execution_count": 18,
   "metadata": {},
   "outputs": [],
   "source": [
    "db_moods = {}\n",
    "for i in range(len(moods)):\n",
    "    db_moods[moods[\"mood\"][i]] = ChooseMood(mood = moods[\"mood\"][i],\n",
    "              color = moods[\"color\"][i],\n",
    "              color_hex = moods[\"color_hex\"][i],\n",
    "              color_r = moods[\"color_r\"][i],\n",
    "              color_g = moods[\"color_g\"][i],\n",
    "              color_b = moods[\"color_b\"][i])"
   ]
  },
  {
   "cell_type": "code",
   "execution_count": 19,
   "metadata": {},
   "outputs": [],
   "source": [
    "db_categories = {}\n",
    "for i in range(len(category)):\n",
    "    db_categories[category[\"Category\"][i]] = Mood2Category(category = category[\"Category\"][i],\n",
    "                                                           mood = category[\"Mood\"][i],\n",
    "                                                           act_mood = db_moods[category[\"Mood\"][i]])"
   ]
  },
  {
   "cell_type": "code",
   "execution_count": 20,
   "metadata": {},
   "outputs": [],
   "source": [
    "db_foods = {}\n",
    "for i in range(len(food)):\n",
    "    db_foods[food[\"food\"][i]] = Category2Food(food = food[\"food\"][i],\n",
    "                                              category = food[\"category\"][i],\n",
    "                                              ingredients = food[\"ingredients\"][i],\n",
    "                                              directions = food[\"directions\"][i],\n",
    "                                              url = food[\"url\"][i],\n",
    "                                              act_category = db_categories[food[\"category\"][i]])"
   ]
  },
  {
   "cell_type": "code",
   "execution_count": 21,
   "metadata": {},
   "outputs": [
    {
     "data": {
      "text/plain": [
       "dict_keys(['Meat', 'Tough', 'Crunchy', 'Sugar', 'Sweet', 'Soft', 'Salty', 'Fatty', 'Bulky', 'Starch', 'Combination', 'Asparagus', 'Avocado', 'Blueberries', 'Healthy', 'Chocolate', 'Protein', 'Vitamins', 'Chamomile', 'Oatmeal'])"
      ]
     },
     "execution_count": 21,
     "metadata": {},
     "output_type": "execute_result"
    }
   ],
   "source": [
    "db_categories.keys()"
   ]
  },
  {
   "cell_type": "code",
   "execution_count": 22,
   "metadata": {},
   "outputs": [],
   "source": [
    "session.add_all(db_moods.values())"
   ]
  },
  {
   "cell_type": "code",
   "execution_count": 23,
   "metadata": {},
   "outputs": [],
   "source": [
    "session.commit()"
   ]
  },
  {
   "cell_type": "code",
   "execution_count": 24,
   "metadata": {},
   "outputs": [],
   "source": [
    "session.add_all(db_categories.values())"
   ]
  },
  {
   "cell_type": "code",
   "execution_count": 25,
   "metadata": {},
   "outputs": [],
   "source": [
    "session.commit()"
   ]
  },
  {
   "cell_type": "code",
   "execution_count": 26,
   "metadata": {},
   "outputs": [],
   "source": [
    "session.add_all(db_foods.values())"
   ]
  },
  {
   "cell_type": "code",
   "execution_count": 27,
   "metadata": {},
   "outputs": [],
   "source": [
    "session.commit()"
   ]
  },
  {
   "cell_type": "code",
   "execution_count": 28,
   "metadata": {},
   "outputs": [],
   "source": [
    "session.close()"
   ]
  },
  {
   "cell_type": "code",
   "execution_count": null,
   "metadata": {},
   "outputs": [],
   "source": []
  }
 ],
 "metadata": {
  "kernelspec": {
   "display_name": "Python 3",
   "language": "python",
   "name": "python3"
  },
  "language_info": {
   "codemirror_mode": {
    "name": "ipython",
    "version": 3
   },
   "file_extension": ".py",
   "mimetype": "text/x-python",
   "name": "python",
   "nbconvert_exporter": "python",
   "pygments_lexer": "ipython3",
   "version": "3.6.2"
  }
 },
 "nbformat": 4,
 "nbformat_minor": 2
}
